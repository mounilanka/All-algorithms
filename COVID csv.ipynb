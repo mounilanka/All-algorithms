{
 "cells": [
  {
   "cell_type": "code",
   "execution_count": 1,
   "id": "b9baa880",
   "metadata": {},
   "outputs": [],
   "source": [
    "import pandas as pd\n",
    "import numpy as np"
   ]
  },
  {
   "cell_type": "code",
   "execution_count": 2,
   "id": "572e5bfd",
   "metadata": {},
   "outputs": [],
   "source": [
    "data = pd.read_csv(\"COVID.csv\")"
   ]
  },
  {
   "cell_type": "code",
   "execution_count": 3,
   "id": "e5e82a02",
   "metadata": {},
   "outputs": [
    {
     "name": "stdout",
     "output_type": "stream",
     "text": [
      "<class 'pandas.core.frame.DataFrame'>\n",
      "RangeIndex: 950 entries, 0 to 949\n",
      "Data columns (total 30 columns):\n",
      " #   Column                  Non-Null Count  Dtype  \n",
      "---  ------                  --------------  -----  \n",
      " 0   patientid               950 non-null    object \n",
      " 1   offset                  697 non-null    float64\n",
      " 2   sex                     870 non-null    object \n",
      " 3   age                     713 non-null    float64\n",
      " 4   finding                 950 non-null    object \n",
      " 5   RT_PCR_positive         593 non-null    object \n",
      " 6   survival                361 non-null    object \n",
      " 7   intubated               248 non-null    object \n",
      " 8   intubation_present      250 non-null    object \n",
      " 9   went_icu                397 non-null    object \n",
      " 10  in_icu                  335 non-null    object \n",
      " 11  needed_supplemental_O2  90 non-null     object \n",
      " 12  extubated               37 non-null     object \n",
      " 13  temperature             78 non-null     float64\n",
      " 14  pO2_saturation          119 non-null    float64\n",
      " 15  leukocyte_count         16 non-null     float64\n",
      " 16  neutrophil_count        28 non-null     float64\n",
      " 17  lymphocyte_count        40 non-null     float64\n",
      " 18  view                    950 non-null    object \n",
      " 19  modality                950 non-null    object \n",
      " 20  date                    661 non-null    object \n",
      " 21  location                894 non-null    object \n",
      " 22  folder                  950 non-null    object \n",
      " 23  filename                950 non-null    object \n",
      " 24  doi                     382 non-null    object \n",
      " 25  url                     950 non-null    object \n",
      " 26  license                 705 non-null    object \n",
      " 27  clinical_notes          768 non-null    object \n",
      " 28  other_notes             436 non-null    object \n",
      " 29  Unnamed: 29             5 non-null      object \n",
      "dtypes: float64(7), object(23)\n",
      "memory usage: 222.8+ KB\n"
     ]
    }
   ],
   "source": [
    "data.info()"
   ]
  },
  {
   "cell_type": "code",
   "execution_count": 4,
   "id": "b67fdca3",
   "metadata": {},
   "outputs": [
    {
     "data": {
      "text/plain": [
       "(950, 30)"
      ]
     },
     "execution_count": 4,
     "metadata": {},
     "output_type": "execute_result"
    }
   ],
   "source": [
    "data.shape"
   ]
  },
  {
   "cell_type": "code",
   "execution_count": 5,
   "id": "92d38c3e",
   "metadata": {},
   "outputs": [
    {
     "data": {
      "text/plain": [
       "<bound method NDFrame.head of     patientid  offset sex   age                   finding RT_PCR_positive  \\\n",
       "0           2     0.0   M  65.0  Pneumonia/Viral/COVID-19               Y   \n",
       "1           2     3.0   M  65.0  Pneumonia/Viral/COVID-19               Y   \n",
       "2           2     5.0   M  65.0  Pneumonia/Viral/COVID-19               Y   \n",
       "3           2     6.0   M  65.0  Pneumonia/Viral/COVID-19               Y   \n",
       "4           4     0.0   F  52.0  Pneumonia/Viral/COVID-19               Y   \n",
       "..        ...     ...  ..   ...                       ...             ...   \n",
       "945       479     0.0   F  40.0                 Pneumonia             NaN   \n",
       "946       479    70.0   F  40.0                 Pneumonia             NaN   \n",
       "947       480     NaN   M  26.0                 Pneumonia             NaN   \n",
       "948       481     NaN   M  50.0                 Pneumonia             NaN   \n",
       "949       481     NaN   M  50.0                 Pneumonia             NaN   \n",
       "\n",
       "    survival intubated intubation_present went_icu  ...              date  \\\n",
       "0          Y         N                  N        N  ...  January 22, 2020   \n",
       "1          Y         N                  N        N  ...  January 25, 2020   \n",
       "2          Y         N                  N        N  ...  January 27, 2020   \n",
       "3          Y         N                  N        N  ...  January 28, 2020   \n",
       "4        NaN         N                  N        N  ...  January 25, 2020   \n",
       "..       ...       ...                ...      ...  ...               ...   \n",
       "945      NaN       NaN                NaN      NaN  ...               NaN   \n",
       "946      NaN       NaN                NaN      NaN  ...               NaN   \n",
       "947      NaN       NaN                NaN      NaN  ...               NaN   \n",
       "948      NaN       NaN                NaN      NaN  ...               NaN   \n",
       "949      NaN       NaN                NaN      NaN  ...               NaN   \n",
       "\n",
       "                                              location  folder  \\\n",
       "0          Cho Ray Hospital, Ho Chi Minh City, Vietnam  images   \n",
       "1          Cho Ray Hospital, Ho Chi Minh City, Vietnam  images   \n",
       "2          Cho Ray Hospital, Ho Chi Minh City, Vietnam  images   \n",
       "3          Cho Ray Hospital, Ho Chi Minh City, Vietnam  images   \n",
       "4    Changhua Christian Hospital, Changhua City, Ta...  images   \n",
       "..                                                 ...     ...   \n",
       "945                                     United Kingdom  images   \n",
       "946                                     United Kingdom  images   \n",
       "947                                                NaN  images   \n",
       "948                                                NaN  images   \n",
       "949                                                NaN  images   \n",
       "\n",
       "                                              filename                   doi  \\\n",
       "0    auntminnie-a-2020_01_28_23_51_6665_2020_01_28_...  10.1056/nejmc2001272   \n",
       "1    auntminnie-b-2020_01_28_23_51_6665_2020_01_28_...  10.1056/nejmc2001272   \n",
       "2    auntminnie-c-2020_01_28_23_51_6665_2020_01_28_...  10.1056/nejmc2001272   \n",
       "3    auntminnie-d-2020_01_28_23_51_6665_2020_01_28_...  10.1056/nejmc2001272   \n",
       "4                                nejmc2001573_f1a.jpeg  10.1056/NEJMc2001573   \n",
       "..                                                 ...                   ...   \n",
       "945        072ecaf8c60a81980abb57150a8016_jumbo-9.jpeg                   NaN   \n",
       "946        ff33c406392b968d483174c97eb857_jumbo-9.jpeg                   NaN   \n",
       "947                                     000001-266.jpg                   NaN   \n",
       "948                                     000001-272.jpg                   NaN   \n",
       "949                                     000002-268.jpg                   NaN   \n",
       "\n",
       "                                                   url          license  \\\n",
       "0    https://www.nejm.org/doi/full/10.1056/NEJMc200...              NaN   \n",
       "1    https://www.nejm.org/doi/full/10.1056/NEJMc200...              NaN   \n",
       "2    https://www.nejm.org/doi/full/10.1056/NEJMc200...              NaN   \n",
       "3    https://www.nejm.org/doi/full/10.1056/NEJMc200...              NaN   \n",
       "4    https://www.nejm.org/doi/full/10.1056/NEJMc200...              NaN   \n",
       "..                                                 ...              ...   \n",
       "945  https://radiopaedia.org/cases/multifocal-round...      CC BY-NC-SA   \n",
       "946  https://radiopaedia.org/cases/multifocal-round...      CC BY-NC-SA   \n",
       "947                   https://www.eurorad.org/case/947  CC BY-NC-SA 4.0   \n",
       "948                   https://www.eurorad.org/case/934  CC BY-NC-SA 4.0   \n",
       "949                   https://www.eurorad.org/case/934  CC BY-NC-SA 4.0   \n",
       "\n",
       "                                        clinical_notes  \\\n",
       "0    On January 22, 2020, a 65-year-old man with a ...   \n",
       "1    On January 22, 2020, a 65-year-old man with a ...   \n",
       "2    On January 22, 2020, a 65-year-old man with a ...   \n",
       "3    On January 22, 2020, a 65-year-old man with a ...   \n",
       "4     diffuse infiltrates in the bilateral lower lungs   \n",
       "..                                                 ...   \n",
       "945  Asthmatic. Shortness of breath and wheeze. Rou...   \n",
       "946  Asthmatic. Shortness of breath and wheeze. The...   \n",
       "947  fire-eater accidentally ingested a paraffin mi...   \n",
       "948  The patient, a heavy smoker, was referred to t...   \n",
       "949  The patient, a heavy smoker, was referred to t...   \n",
       "\n",
       "                                           other_notes Unnamed: 29  \n",
       "0                                                  NaN         NaN  \n",
       "1                                                  NaN         NaN  \n",
       "2                                                  NaN         NaN  \n",
       "3                                                  NaN         NaN  \n",
       "4                                                  NaN         NaN  \n",
       "..                                                 ...         ...  \n",
       "945  Case courtesy of Dr Ian Bickle, Radiopaedia.or...         NaN  \n",
       "946  Case courtesy of Dr Ian Bickle, Radiopaedia.or...         NaN  \n",
       "947                                                NaN         NaN  \n",
       "948                                                NaN         NaN  \n",
       "949                                                NaN         NaN  \n",
       "\n",
       "[950 rows x 30 columns]>"
      ]
     },
     "execution_count": 5,
     "metadata": {},
     "output_type": "execute_result"
    }
   ],
   "source": [
    "data.head"
   ]
  },
  {
   "cell_type": "code",
   "execution_count": 11,
   "id": "d6ae96c8",
   "metadata": {},
   "outputs": [
    {
     "data": {
      "text/plain": [
       "patientid                   0\n",
       "offset                    253\n",
       "sex                        80\n",
       "age                       237\n",
       "finding                     0\n",
       "RT_PCR_positive           357\n",
       "survival                  589\n",
       "intubated                 702\n",
       "intubation_present        700\n",
       "went_icu                  553\n",
       "in_icu                    615\n",
       "needed_supplemental_O2    860\n",
       "extubated                 913\n",
       "temperature               872\n",
       "pO2_saturation            831\n",
       "leukocyte_count           934\n",
       "neutrophil_count          922\n",
       "lymphocyte_count          910\n",
       "view                        0\n",
       "modality                    0\n",
       "date                      289\n",
       "location                   56\n",
       "folder                      0\n",
       "filename                    0\n",
       "doi                       568\n",
       "url                         0\n",
       "license                   245\n",
       "clinical_notes            182\n",
       "other_notes               514\n",
       "Unnamed: 29               945\n",
       "dtype: int64"
      ]
     },
     "execution_count": 11,
     "metadata": {},
     "output_type": "execute_result"
    }
   ],
   "source": [
    "data.isnull().sum()"
   ]
  },
  {
   "cell_type": "code",
   "execution_count": 17,
   "id": "3be545b8",
   "metadata": {},
   "outputs": [
    {
     "data": {
      "text/html": [
       "<div>\n",
       "<style scoped>\n",
       "    .dataframe tbody tr th:only-of-type {\n",
       "        vertical-align: middle;\n",
       "    }\n",
       "\n",
       "    .dataframe tbody tr th {\n",
       "        vertical-align: top;\n",
       "    }\n",
       "\n",
       "    .dataframe thead th {\n",
       "        text-align: right;\n",
       "    }\n",
       "</style>\n",
       "<table border=\"1\" class=\"dataframe\">\n",
       "  <thead>\n",
       "    <tr style=\"text-align: right;\">\n",
       "      <th></th>\n",
       "      <th>offset</th>\n",
       "      <th>age</th>\n",
       "      <th>temperature</th>\n",
       "      <th>pO2_saturation</th>\n",
       "      <th>leukocyte_count</th>\n",
       "      <th>neutrophil_count</th>\n",
       "      <th>lymphocyte_count</th>\n",
       "    </tr>\n",
       "  </thead>\n",
       "  <tbody>\n",
       "    <tr>\n",
       "      <th>count</th>\n",
       "      <td>697.000000</td>\n",
       "      <td>713.000000</td>\n",
       "      <td>78.000000</td>\n",
       "      <td>119.000000</td>\n",
       "      <td>16.000000</td>\n",
       "      <td>28.000000</td>\n",
       "      <td>40.000000</td>\n",
       "    </tr>\n",
       "    <tr>\n",
       "      <th>mean</th>\n",
       "      <td>9.083214</td>\n",
       "      <td>53.534362</td>\n",
       "      <td>38.898718</td>\n",
       "      <td>78.475630</td>\n",
       "      <td>5.024375</td>\n",
       "      <td>5.307143</td>\n",
       "      <td>4.638050</td>\n",
       "    </tr>\n",
       "    <tr>\n",
       "      <th>std</th>\n",
       "      <td>31.664077</td>\n",
       "      <td>16.949007</td>\n",
       "      <td>6.494383</td>\n",
       "      <td>38.742573</td>\n",
       "      <td>2.660341</td>\n",
       "      <td>3.489956</td>\n",
       "      <td>20.550033</td>\n",
       "    </tr>\n",
       "    <tr>\n",
       "      <th>min</th>\n",
       "      <td>-360.000000</td>\n",
       "      <td>18.000000</td>\n",
       "      <td>36.000000</td>\n",
       "      <td>20.000000</td>\n",
       "      <td>0.220000</td>\n",
       "      <td>0.000000</td>\n",
       "      <td>0.400000</td>\n",
       "    </tr>\n",
       "    <tr>\n",
       "      <th>25%</th>\n",
       "      <td>1.000000</td>\n",
       "      <td>40.000000</td>\n",
       "      <td>37.800000</td>\n",
       "      <td>55.000000</td>\n",
       "      <td>3.067500</td>\n",
       "      <td>2.725000</td>\n",
       "      <td>0.746500</td>\n",
       "    </tr>\n",
       "    <tr>\n",
       "      <th>50%</th>\n",
       "      <td>5.000000</td>\n",
       "      <td>54.000000</td>\n",
       "      <td>38.150000</td>\n",
       "      <td>85.000000</td>\n",
       "      <td>4.745000</td>\n",
       "      <td>4.800000</td>\n",
       "      <td>1.100000</td>\n",
       "    </tr>\n",
       "    <tr>\n",
       "      <th>75%</th>\n",
       "      <td>10.000000</td>\n",
       "      <td>68.000000</td>\n",
       "      <td>38.975000</td>\n",
       "      <td>95.000000</td>\n",
       "      <td>6.857500</td>\n",
       "      <td>6.925000</td>\n",
       "      <td>1.600000</td>\n",
       "    </tr>\n",
       "    <tr>\n",
       "      <th>max</th>\n",
       "      <td>365.000000</td>\n",
       "      <td>94.000000</td>\n",
       "      <td>95.000000</td>\n",
       "      <td>340.000000</td>\n",
       "      <td>11.200000</td>\n",
       "      <td>12.900000</td>\n",
       "      <td>131.000000</td>\n",
       "    </tr>\n",
       "  </tbody>\n",
       "</table>\n",
       "</div>"
      ],
      "text/plain": [
       "           offset         age  temperature  pO2_saturation  leukocyte_count  \\\n",
       "count  697.000000  713.000000    78.000000      119.000000        16.000000   \n",
       "mean     9.083214   53.534362    38.898718       78.475630         5.024375   \n",
       "std     31.664077   16.949007     6.494383       38.742573         2.660341   \n",
       "min   -360.000000   18.000000    36.000000       20.000000         0.220000   \n",
       "25%      1.000000   40.000000    37.800000       55.000000         3.067500   \n",
       "50%      5.000000   54.000000    38.150000       85.000000         4.745000   \n",
       "75%     10.000000   68.000000    38.975000       95.000000         6.857500   \n",
       "max    365.000000   94.000000    95.000000      340.000000        11.200000   \n",
       "\n",
       "       neutrophil_count  lymphocyte_count  \n",
       "count         28.000000         40.000000  \n",
       "mean           5.307143          4.638050  \n",
       "std            3.489956         20.550033  \n",
       "min            0.000000          0.400000  \n",
       "25%            2.725000          0.746500  \n",
       "50%            4.800000          1.100000  \n",
       "75%            6.925000          1.600000  \n",
       "max           12.900000        131.000000  "
      ]
     },
     "execution_count": 17,
     "metadata": {},
     "output_type": "execute_result"
    }
   ],
   "source": [
    "data.describe()"
   ]
  },
  {
   "cell_type": "code",
   "execution_count": 18,
   "id": "7fe91d19",
   "metadata": {},
   "outputs": [
    {
     "name": "stderr",
     "output_type": "stream",
     "text": [
      "C:\\Users\\sankr\\AppData\\Local\\Temp\\ipykernel_21036\\1188251951.py:1: FutureWarning: Dropping of nuisance columns in DataFrame reductions (with 'numeric_only=None') is deprecated; in a future version this will raise TypeError.  Select only valid columns before calling the reduction.\n",
      "  data.skew()\n"
     ]
    },
    {
     "data": {
      "text/plain": [
       "offset             -0.084034\n",
       "age                -0.082536\n",
       "temperature         8.583636\n",
       "pO2_saturation      2.648394\n",
       "leukocyte_count     0.457399\n",
       "neutrophil_count    0.747759\n",
       "lymphocyte_count    6.270249\n",
       "dtype: float64"
      ]
     },
     "execution_count": 18,
     "metadata": {},
     "output_type": "execute_result"
    }
   ],
   "source": [
    "data.skew()"
   ]
  },
  {
   "cell_type": "code",
   "execution_count": 20,
   "id": "087fc4ce",
   "metadata": {},
   "outputs": [],
   "source": [
    "features = data.iloc[:,:-1].values\n",
    "labels = data.iloc[:,-1].values"
   ]
  },
  {
   "cell_type": "code",
   "execution_count": 21,
   "id": "1a9219f5",
   "metadata": {},
   "outputs": [],
   "source": [
    "from sklearn.model_selection import train_test_split"
   ]
  },
  {
   "cell_type": "code",
   "execution_count": 22,
   "id": "337b9835",
   "metadata": {},
   "outputs": [],
   "source": [
    "X_train,X_test,Y_train,Y_test = train_test_split(features,labels,test_size = 0.2)"
   ]
  },
  {
   "cell_type": "code",
   "execution_count": 23,
   "id": "bea928cc",
   "metadata": {},
   "outputs": [
    {
     "data": {
      "text/plain": [
       "((760, 29), (760,), (190, 29), (190,))"
      ]
     },
     "execution_count": 23,
     "metadata": {},
     "output_type": "execute_result"
    }
   ],
   "source": [
    "X_train.shape, Y_train.shape , X_test.shape , Y_test.shape"
   ]
  },
  {
   "cell_type": "code",
   "execution_count": 27,
   "id": "6a356e49",
   "metadata": {},
   "outputs": [
    {
     "data": {
      "text/html": [
       "<div>\n",
       "<style scoped>\n",
       "    .dataframe tbody tr th:only-of-type {\n",
       "        vertical-align: middle;\n",
       "    }\n",
       "\n",
       "    .dataframe tbody tr th {\n",
       "        vertical-align: top;\n",
       "    }\n",
       "\n",
       "    .dataframe thead th {\n",
       "        text-align: right;\n",
       "    }\n",
       "</style>\n",
       "<table border=\"1\" class=\"dataframe\">\n",
       "  <thead>\n",
       "    <tr style=\"text-align: right;\">\n",
       "      <th></th>\n",
       "      <th>offset</th>\n",
       "      <th>age</th>\n",
       "      <th>temperature</th>\n",
       "      <th>pO2_saturation</th>\n",
       "      <th>leukocyte_count</th>\n",
       "      <th>neutrophil_count</th>\n",
       "      <th>lymphocyte_count</th>\n",
       "    </tr>\n",
       "  </thead>\n",
       "  <tbody>\n",
       "    <tr>\n",
       "      <th>offset</th>\n",
       "      <td>1.000000</td>\n",
       "      <td>-0.001992</td>\n",
       "      <td>0.085304</td>\n",
       "      <td>0.164643</td>\n",
       "      <td>-0.156749</td>\n",
       "      <td>0.148430</td>\n",
       "      <td>-0.009622</td>\n",
       "    </tr>\n",
       "    <tr>\n",
       "      <th>age</th>\n",
       "      <td>-0.001992</td>\n",
       "      <td>1.000000</td>\n",
       "      <td>0.176245</td>\n",
       "      <td>-0.174707</td>\n",
       "      <td>0.492587</td>\n",
       "      <td>0.596002</td>\n",
       "      <td>0.528551</td>\n",
       "    </tr>\n",
       "    <tr>\n",
       "      <th>temperature</th>\n",
       "      <td>0.085304</td>\n",
       "      <td>0.176245</td>\n",
       "      <td>1.000000</td>\n",
       "      <td>-0.224417</td>\n",
       "      <td>0.119528</td>\n",
       "      <td>0.575253</td>\n",
       "      <td>-0.342545</td>\n",
       "    </tr>\n",
       "    <tr>\n",
       "      <th>pO2_saturation</th>\n",
       "      <td>0.164643</td>\n",
       "      <td>-0.174707</td>\n",
       "      <td>-0.224417</td>\n",
       "      <td>1.000000</td>\n",
       "      <td>-0.844946</td>\n",
       "      <td>0.226702</td>\n",
       "      <td>0.263767</td>\n",
       "    </tr>\n",
       "    <tr>\n",
       "      <th>leukocyte_count</th>\n",
       "      <td>-0.156749</td>\n",
       "      <td>0.492587</td>\n",
       "      <td>0.119528</td>\n",
       "      <td>-0.844946</td>\n",
       "      <td>1.000000</td>\n",
       "      <td>0.994478</td>\n",
       "      <td>-0.061150</td>\n",
       "    </tr>\n",
       "    <tr>\n",
       "      <th>neutrophil_count</th>\n",
       "      <td>0.148430</td>\n",
       "      <td>0.596002</td>\n",
       "      <td>0.575253</td>\n",
       "      <td>0.226702</td>\n",
       "      <td>0.994478</td>\n",
       "      <td>1.000000</td>\n",
       "      <td>0.039701</td>\n",
       "    </tr>\n",
       "    <tr>\n",
       "      <th>lymphocyte_count</th>\n",
       "      <td>-0.009622</td>\n",
       "      <td>0.528551</td>\n",
       "      <td>-0.342545</td>\n",
       "      <td>0.263767</td>\n",
       "      <td>-0.061150</td>\n",
       "      <td>0.039701</td>\n",
       "      <td>1.000000</td>\n",
       "    </tr>\n",
       "  </tbody>\n",
       "</table>\n",
       "</div>"
      ],
      "text/plain": [
       "                    offset       age  temperature  pO2_saturation  \\\n",
       "offset            1.000000 -0.001992     0.085304        0.164643   \n",
       "age              -0.001992  1.000000     0.176245       -0.174707   \n",
       "temperature       0.085304  0.176245     1.000000       -0.224417   \n",
       "pO2_saturation    0.164643 -0.174707    -0.224417        1.000000   \n",
       "leukocyte_count  -0.156749  0.492587     0.119528       -0.844946   \n",
       "neutrophil_count  0.148430  0.596002     0.575253        0.226702   \n",
       "lymphocyte_count -0.009622  0.528551    -0.342545        0.263767   \n",
       "\n",
       "                  leukocyte_count  neutrophil_count  lymphocyte_count  \n",
       "offset                  -0.156749          0.148430         -0.009622  \n",
       "age                      0.492587          0.596002          0.528551  \n",
       "temperature              0.119528          0.575253         -0.342545  \n",
       "pO2_saturation          -0.844946          0.226702          0.263767  \n",
       "leukocyte_count          1.000000          0.994478         -0.061150  \n",
       "neutrophil_count         0.994478          1.000000          0.039701  \n",
       "lymphocyte_count        -0.061150          0.039701          1.000000  "
      ]
     },
     "execution_count": 27,
     "metadata": {},
     "output_type": "execute_result"
    }
   ],
   "source": [
    "data.corr()"
   ]
  },
  {
   "cell_type": "code",
   "execution_count": 29,
   "id": "5c051bcd",
   "metadata": {},
   "outputs": [
    {
     "data": {
      "image/png": "[encoded data removed]",
      "text/plain": [
       "<Figure size 432x288 with 2 Axes>"
      ]
     },
     "metadata": {
      "needs_background": "light"
     },
     "output_type": "display_data"
    }
   ],
   "source": [
    "sns.heatmap(data.corr(),annot=True);"
   ]
  },
  {
   "cell_type": "code",
   "execution_count": 31,
   "id": "df210bcb",
   "metadata": {},
   "outputs": [
    {
     "data": {
      "image/png": "[encoded data removed]",
      "text/plain": [
       "<Figure size 864x864 with 9 Axes>"
      ]
     },
     "metadata": {
      "needs_background": "light"
     },
     "output_type": "display_data"
    }
   ],
   "source": [
    "data.hist(figsize=(12,12),layout=(3,3),sharex=False);"
   ]
  },
  {
   "cell_type": "code",
   "execution_count": null,
   "id": "9ee7dff5",
   "metadata": {},
   "outputs": [],
   "source": []
  }
 ],
 "metadata": {
  "kernelspec": {
   "display_name": "Python 3 (ipykernel)",
   "language": "python",
   "name": "python3"
  },
  "language_info": {
   "codemirror_mode": {
    "name": "ipython",
    "version": 3
   },
   "file_extension": ".py",
   "mimetype": "text/x-python",
   "name": "python",
   "nbconvert_exporter": "python",
   "pygments_lexer": "ipython3",
   "version": "3.9.12"
  }
 },
 "nbformat": 4,
 "nbformat_minor": 5
}
